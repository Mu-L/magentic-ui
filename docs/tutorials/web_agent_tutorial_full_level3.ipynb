{
 "cells": [
  {
   "cell_type": "markdown",
   "metadata": {},
   "source": [
    "# Tutorial: Building a Browser Use Agent From Scratch and with Magentic-UI - Level 3\n"
   ]
  },
  {
   "cell_type": "markdown",
   "metadata": {},
   "source": [
    "\n",
    "You might have seen cool video demos online of AI agents taking control of a computer or a browser to perform tasks. This is a new category of agents referred to as Computer-Use-Agents (CUA) or Browser-Use-Agents (BUA). Examples of such CUA/BUA agents include [OpenAI's Operator](https://openai.com/index/introducing-operator/), [Claude Computer Use Model](https://docs.anthropic.com/en/docs/agents-and-tools/tool-use/computer-use-tool), [AutoGen's MultiModalWebSurfer](https://microsoft.github.io/autogen/stable/reference/python/autogen_ext.agents.web_surfer.html), [Adept AI](https://www.adept.ai/blog/act-1), [Google's Project Mariner](https://deepmind.google/models/project-mariner/) and [Browser-Use](https://github.com/browser-use/browser-use/tree/main) among many others.\n",
    "\n",
    "\n",
    "## What is a Computer Use Agent?\n",
    "\n",
    "**Definition**: A computer or browser use agent is an agent that given a task, e.g., \"order a shawarma sandwich from BestShawarma for pickup now\", can programmatically control a computer or browser to autonomously complete the task. By \"control a browser\" we mean interacting with the browser in a similar way to how a human might control the browser: clicking on buttons, typing in fields, scrolling and so on. Note that a tool-use language model agent could complete this food ordering task if it had access to the restaurant API for instance, this would not make it a CUA agent as it is not _interacting_ with the browser to complete the task.\n",
    "\n",
    "To make this distinction more clear, here is another example task.\n",
    "Suppose we wanted to find the list of available Airbnbs in Miami from 6/18 to 6/20 for 2 guests.\n",
    "\n",
    "![airbnb_sc.png](airbnb_sc.png)\n",
    "\n",
    "How would a browser use agent solve this task:\n",
    "\n",
    "- **Step 1:** Visit airbnb.com\n",
    "- **Step 2:** Type \"Miami\" in the \"Where\" input box\n",
    "- **Step 3:** Select \"6/18\" in the \"Check in\" date box\n",
    "- **Step 4:** Select \"6/20\" in the \"Check out\" date box\n",
    "- **Step 5:** Click on the \"Who\" button\n",
    "- **Step 6:** Click \"+\" twice to add two guests\n",
    "- **Step 7:** Click \"Search\" button\n",
    "- **Step 8:** Summarize and extract listings from the webpage\n",
    "\n",
    "On the other hand, suppose we had an API for Airbnb that looks like: `find_listings(location, check_in, check_out, guests)`\n",
    "\n",
    "Then a tool-call agent would first need to generate a tool call: `find_listings(\"Miami\", 6/18, 6/20, 2)` and read out the result of the tool call.\n",
    "\n",
    "Clearly if we had an API for every website and everything on the computer, then it would be much simpler to perform this task. _But that is not the case currently_, many interfaces on the web cannot be accessed by an API and so the only way is through interacting with the website directly. While future interfaces might become more directly accessible to agents via APIs and MCP servers, for now we need to perform direct manipulation with the websites.\n",
    "\n",
    "## What Does This Tutorial Cover?\n",
    "\n",
    "In this tutorial, we will cover how to build a basic browser-use agent. The goal of this tutorial is to demystify such agents and show how we can build a simple version of them. The only thing we need is access to a large language model (LLM) that can perform tool calling or structured JSON outputs (GPT-4o, Qwen2.5-VL, Llama 3.1, ...). The LLM does not need to be vision capable, but a model capable of taking image input would improve performance significantly. The LLM also does not need to be trained previously for browser-use, out of the box LLMs can be turned into semi-capable browser-use agents following the recipe in this tutorial. At the end of the tutorial we will discuss further directions.\n",
    "\n",
    "We will cover three levels of building your browser use agent:\n",
    "\n",
    "- Level 1: From scratch using only the `playwright` python package.\n",
    "- Level 2: Using helpers from the `magentic-ui` package which simplifies building your agent.\n",
    "- Level 3: Using the WebSurfer Agent from the `magentic-ui` package directly.\n",
    "\n",
    "This is Level 3."
   ]
  },
  {
   "cell_type": "markdown",
   "metadata": {},
   "source": [
    "# Tutorial Prerequisites\n",
    "\n"
   ]
  },
  {
   "cell_type": "markdown",
   "metadata": {},
   "source": [
    "\n",
    "You will need Python >3.10 to run this tutorial and the `magentic-ui` package. [Magentic-UI](https://github.com/microsoft/magentic-ui/tree/main) is a research prototype from Microsoft of a human-centered agentic interface. In this tutorial we will be using utilities and helpers from that package without using the Magentic-UI application itself.\n",
    "\n",
    "We recommend using a virtual environment to avoid conflicts with other packages.\n",
    "\n",
    "```bash\n",
    "python3 -m venv .venv\n",
    "source .venv/bin/activate\n",
    "pip install magentic-ui\n",
    "```\n",
    "\n",
    "Alternatively, if you use [`uv`](https://docs.astral.sh/uv/getting-started/installation/) for dependency management, you can install Magentic-UI with:\n",
    "\n",
    "```bash\n",
    "uv venv --python=3.12 .venv\n",
    ". .venv/bin/activate\n",
    "uv pip install magentic-ui\n",
    "```\n",
    "\n",
    "We also need to install the browsers that our agent will control with playwright:\n",
    "\n",
    "```bash\n",
    "playwright install --with-deps chromium\n",
    "```\n",
    "\n",
    "The other thing you need to set up is your LLM. The easiest way to follow this tutorial is to obtain an OpenAI API key and set it as an environment variable:\n",
    "\n",
    "```bash\n",
    "export OPENAI_API_KEY=<YOUR API KEY>\n",
    "```\n",
    "\n",
    "You can also use any open source model with [Ollama](https://ollama.com/) if you have a capable GPU at your disposal. We will be covering both using OpenAI and Ollama."
   ]
  },
  {
   "cell_type": "markdown",
   "metadata": {},
   "source": [
    "# Level 3: Using the WebSurfer Agent from Magentic-UI\n",
    "\n",
    "We have a reference implementation of a capable browser use agent in Magentic-UI which we call the `WebSurfer` agent. I'll show you now how to use it. \n"
   ]
  },
  {
   "cell_type": "markdown",
   "metadata": {},
   "source": [
    "\n",
    "`WebSurfer` is an AutoGen AgentChat agent built using the tools we have seen previously to complete actions autonomously on the web. We have spent a lot of time fixing many many edge cases that arise on the web to arrive at a more reliable (but not perfect) browser use agent.\n",
    "This agent builds on the [`MultimodalWebSurfer`](https://microsoft.github.io/autogen/stable/reference/python/autogen_ext.agents.web_surfer.html) agent from AutoGen that we previously developed. \n",
    "\n",
    "Let's see now how to use it!"
   ]
  },
  {
   "cell_type": "code",
   "execution_count": 81,
   "metadata": {},
   "outputs": [
    {
     "name": "stdout",
     "output_type": "stream",
     "text": [
      "source='user' models_usage=None metadata={} content='find the open issues assigned to husseinmozannar on the microsoft/magentic-ui repo on github' type='TextMessage'\n",
      "source='web_surfer' models_usage=RequestUsage(prompt_tokens=4858, completion_tokens=62) metadata={} content=\"I'll search for the open issues assigned to husseinmozannar on the microsoft/magentic-ui GitHub repository.\" type='TextMessage'\n",
      "messages=[TextMessage(source='user', models_usage=None, metadata={}, content='find the open issues assigned to husseinmozannar on the microsoft/magentic-ui repo on github', type='TextMessage'), TextMessage(source='web_surfer', models_usage=RequestUsage(prompt_tokens=4858, completion_tokens=62), metadata={}, content=\"I'll search for the open issues assigned to husseinmozannar on the microsoft/magentic-ui GitHub repository.\", type='TextMessage')] stop_reason=None\n",
      "source='web_surfer' models_usage=RequestUsage(prompt_tokens=4858, completion_tokens=62) metadata={'internal': 'no', 'type': 'browser_screenshot'} content=[\"I typed 'open issues assigned to husseinmozannar microsoft/magentic-ui site:github.com' into the browser search bar.\", <autogen_core._image.Image object at 0x7a72a12d8bc0>] type='MultiModalMessage'\n",
      "messages=[TextMessage(source='user', models_usage=None, metadata={}, content='find the open issues assigned to husseinmozannar on the microsoft/magentic-ui repo on github', type='TextMessage'), TextMessage(source='web_surfer', models_usage=RequestUsage(prompt_tokens=4858, completion_tokens=62), metadata={}, content=\"I'll search for the open issues assigned to husseinmozannar on the microsoft/magentic-ui GitHub repository.\", type='TextMessage'), MultiModalMessage(source='web_surfer', models_usage=RequestUsage(prompt_tokens=4858, completion_tokens=62), metadata={'internal': 'no', 'type': 'browser_screenshot'}, content=[\"I typed 'open issues assigned to husseinmozannar microsoft/magentic-ui site:github.com' into the browser search bar.\", <autogen_core._image.Image object at 0x7a72a12d8bc0>], type='MultiModalMessage')] stop_reason=None\n",
      "source='web_surfer' models_usage=RequestUsage(prompt_tokens=13361, completion_tokens=110) metadata={} content=\"I'll click on the link to the GitHub issue page to find more details about the issues assigned to husseinmozannar.\" type='TextMessage'\n",
      "messages=[TextMessage(source='user', models_usage=None, metadata={}, content='find the open issues assigned to husseinmozannar on the microsoft/magentic-ui repo on github', type='TextMessage'), TextMessage(source='web_surfer', models_usage=RequestUsage(prompt_tokens=4858, completion_tokens=62), metadata={}, content=\"I'll search for the open issues assigned to husseinmozannar on the microsoft/magentic-ui GitHub repository.\", type='TextMessage'), MultiModalMessage(source='web_surfer', models_usage=RequestUsage(prompt_tokens=4858, completion_tokens=62), metadata={'internal': 'no', 'type': 'browser_screenshot'}, content=[\"I typed 'open issues assigned to husseinmozannar microsoft/magentic-ui site:github.com' into the browser search bar.\", <autogen_core._image.Image object at 0x7a72a12d8bc0>], type='MultiModalMessage'), TextMessage(source='web_surfer', models_usage=RequestUsage(prompt_tokens=13361, completion_tokens=110), metadata={}, content=\"I'll click on the link to the GitHub issue page to find more details about the issues assigned to husseinmozannar.\", type='TextMessage')] stop_reason=None\n",
      "source='web_surfer' models_usage=RequestUsage(prompt_tokens=13361, completion_tokens=110) metadata={'internal': 'no', 'type': 'browser_screenshot'} content=[\"I clicked 'GitHub · Where software is built'.\", <autogen_core._image.Image object at 0x7a72a1692360>] type='MultiModalMessage'\n",
      "messages=[TextMessage(source='user', models_usage=None, metadata={}, content='find the open issues assigned to husseinmozannar on the microsoft/magentic-ui repo on github', type='TextMessage'), TextMessage(source='web_surfer', models_usage=RequestUsage(prompt_tokens=4858, completion_tokens=62), metadata={}, content=\"I'll search for the open issues assigned to husseinmozannar on the microsoft/magentic-ui GitHub repository.\", type='TextMessage'), MultiModalMessage(source='web_surfer', models_usage=RequestUsage(prompt_tokens=4858, completion_tokens=62), metadata={'internal': 'no', 'type': 'browser_screenshot'}, content=[\"I typed 'open issues assigned to husseinmozannar microsoft/magentic-ui site:github.com' into the browser search bar.\", <autogen_core._image.Image object at 0x7a72a12d8bc0>], type='MultiModalMessage'), TextMessage(source='web_surfer', models_usage=RequestUsage(prompt_tokens=13361, completion_tokens=110), metadata={}, content=\"I'll click on the link to the GitHub issue page to find more details about the issues assigned to husseinmozannar.\", type='TextMessage'), MultiModalMessage(source='web_surfer', models_usage=RequestUsage(prompt_tokens=13361, completion_tokens=110), metadata={'internal': 'no', 'type': 'browser_screenshot'}, content=[\"I clicked 'GitHub · Where software is built'.\", <autogen_core._image.Image object at 0x7a72a1692360>], type='MultiModalMessage')] stop_reason=None\n",
      "source='web_surfer' models_usage=RequestUsage(prompt_tokens=24988, completion_tokens=286) metadata={} content='Here are the open issues assigned to husseinmozannar on the microsoft/magentic-ui GitHub repository:\\n\\n1. **Issue #165**: Make it easy to run magentic-ui in GitHub Codespaces\\n2. **Issue #164**: The interactive screenshot and live view is blank, the localhost reject the connection\\n3. **Issue #154**: Support for Additional Model Providers via OpenAI-Compatible APIs\\n4. **Issue #148**: I have installed magentic ui, but met magentic command not found\\n\\nThese issues can be found on the GitHub repository of microsoft/magentic-ui. Let me know if you need more information!' type='TextMessage'\n",
      "messages=[TextMessage(source='user', models_usage=None, metadata={}, content='find the open issues assigned to husseinmozannar on the microsoft/magentic-ui repo on github', type='TextMessage'), TextMessage(source='web_surfer', models_usage=RequestUsage(prompt_tokens=4858, completion_tokens=62), metadata={}, content=\"I'll search for the open issues assigned to husseinmozannar on the microsoft/magentic-ui GitHub repository.\", type='TextMessage'), MultiModalMessage(source='web_surfer', models_usage=RequestUsage(prompt_tokens=4858, completion_tokens=62), metadata={'internal': 'no', 'type': 'browser_screenshot'}, content=[\"I typed 'open issues assigned to husseinmozannar microsoft/magentic-ui site:github.com' into the browser search bar.\", <autogen_core._image.Image object at 0x7a72a12d8bc0>], type='MultiModalMessage'), TextMessage(source='web_surfer', models_usage=RequestUsage(prompt_tokens=13361, completion_tokens=110), metadata={}, content=\"I'll click on the link to the GitHub issue page to find more details about the issues assigned to husseinmozannar.\", type='TextMessage'), MultiModalMessage(source='web_surfer', models_usage=RequestUsage(prompt_tokens=13361, completion_tokens=110), metadata={'internal': 'no', 'type': 'browser_screenshot'}, content=[\"I clicked 'GitHub · Where software is built'.\", <autogen_core._image.Image object at 0x7a72a1692360>], type='MultiModalMessage'), TextMessage(source='web_surfer', models_usage=RequestUsage(prompt_tokens=24988, completion_tokens=286), metadata={}, content='Here are the open issues assigned to husseinmozannar on the microsoft/magentic-ui GitHub repository:\\n\\n1. **Issue #165**: Make it easy to run magentic-ui in GitHub Codespaces\\n2. **Issue #164**: The interactive screenshot and live view is blank, the localhost reject the connection\\n3. **Issue #154**: Support for Additional Model Providers via OpenAI-Compatible APIs\\n4. **Issue #148**: I have installed magentic ui, but met magentic command not found\\n\\nThese issues can be found on the GitHub repository of microsoft/magentic-ui. Let me know if you need more information!', type='TextMessage')] stop_reason=None\n"
     ]
    },
    {
     "name": "stderr",
     "output_type": "stream",
     "text": [
      "\u001b[32m2025-06-15 18:22:17.142\u001b[0m | \u001b[1mINFO    \u001b[0m | \u001b[36mmagentic_ui.agents.web_surfer._web_surfer\u001b[0m:\u001b[36mclose\u001b[0m:\u001b[36m439\u001b[0m - \u001b[1mClosing WebSurfer...\u001b[0m\n"
     ]
    },
    {
     "name": "stdout",
     "output_type": "stream",
     "text": [
      "source='web_surfer' models_usage=RequestUsage(prompt_tokens=24988, completion_tokens=286) metadata={'internal': 'yes'} content=['\\n\\nThe actions the websurfer performed are the following.\\n\\n Action: web_search( {\"explanation\": \"I\\'ll search for the open issues assigned to husseinmozannar on the microsoft/magentic-ui GitHub repository.\", \"query\": \"open issues assigned to husseinmozannar microsoft/magentic-ui site:github.com\", \"require_approval\": false} )\\nObservation: I typed \\'open issues assigned to husseinmozannar microsoft/magentic-ui site:github.com\\' into the browser search bar.\\n\\n\\n\\n Action: click( {\"explanation\": \"I\\'ll click on the link to the GitHub issue page to find more details about the issues assigned to husseinmozannar.\", \"target_id\": 28, \"require_approval\": false} )\\nObservation: I clicked \\'GitHub · Where software is built\\'.\\n\\n\\n\\n Action: stop_action( {\"explanation\": \"I found the open issues assigned to husseinmozannar on the microsoft/magentic-ui GitHub repository.\", \"answer\": \"Here are the open issues assigned to husseinmozannar on the microsoft/magentic-ui GitHub repository:\\\\n\\\\n1. **Issue #165**: Make it easy to run magentic-ui in GitHub Codespaces\\\\n2. **Issue #164**: The interactive screenshot and live view is blank, the localhost reject the connection\\\\n3. **Issue #154**: Support for Additional Model Providers via OpenAI-Compatible APIs\\\\n4. **Issue #148**: I have installed magentic ui, but met magentic command not found\\\\n\\\\nThese issues can be found on the GitHub repository of microsoft/magentic-ui. Let me know if you need more information!\"} )\\nObservation: Here are the open issues assigned to husseinmozannar on the microsoft/magentic-ui GitHub repository:\\n\\n1. **Issue #165**: Make it easy to run magentic-ui in GitHub Codespaces\\n2. **Issue #164**: The interactive screenshot and live view is blank, the localhost reject the connection\\n3. **Issue #154**: Support for Additional Model Providers via OpenAI-Compatible APIs\\n4. **Issue #148**: I have installed magentic ui, but met magentic command not found\\n\\nThese issues can be found on the GitHub repository of microsoft/magentic-ui. Let me know if you need more information!\\n\\n\\n\\nWe are at the following webpage [Issues · microsoft/magentic-ui](https://github.com/microsoft/magentic-ui/issues).\\nThe viewport shows 66% of the webpage, and is positioned at the top of the page\\nThe text in the viewport is:\\n Skip to content\\nNavigation Menu\\n Product \\n GitHub Copilot \\n Write better code with AI \\n GitHub Models \\n New  Manage and compare prompts \\n GitHub Advanced Security \\n Find and fix vulnerabilities \\n Actions \\n Automate any workflow \\n Codespaces \\n Instant dev environments \\n Issues \\n Plan and track work \\n Code Review \\n Manage code changes \\n Discussions \\n Collaborate outside of code \\n Code Search \\n Find more, search less \\nExplore\\n Why GitHub \\n All features \\n Documentation \\n GitHub Skills \\n Blog \\n Solutions \\nBy company size\\n Enterprises \\n Small and medium teams \\n Startups \\n Nonprofits \\nBy use case\\n DevSecOps \\n DevOps \\n CI/CD \\n View all use cases \\nBy industry\\n Healthcare \\n Financial services \\n Manufacturing \\n Government \\n View all industries \\n View all solutions  Resources \\nTopics\\n AI \\n DevOps \\n Security \\n Software Development \\n View all \\nExplore\\n Learning Pathways \\n Events & Webinars \\n Ebooks & Whitepapers \\n Customer Stories \\n Partners \\n Executive Insights \\n Open Source \\n GitHub Sponsors \\n Fund open source developers \\n The ReadME Project \\n GitHub community articles \\nRepositories\\n Topics \\n Trending \\n Collections \\n Enterprise \\n Enterprise platform \\n AI-powered developer platform \\nAvailable add-ons\\n GitHub Advanced Security \\n Enterprise-grade security features \\n Copilot for business \\n Enterprise-grade AI features \\n Premium Support \\n Enterprise-grade 24/7 support \\nPricing\\nSearch or jump to...\\n Sign in \\n Sign up \\n microsoft /\\nmagentic-uiPublic\\nNotifications \\nFork \\n509\\n Star 5.2k\\nCode\\nIssues\\n45\\nPull requests\\n9\\nDiscussions\\nActions\\nProjects\\nSecurity\\nInsights\\nIssues\\nSearch Issues\\nis:issue \\nstate:open \\nis:issue state:open Labels\\nMilestones\\nNew issue\\nSearch results\\nOpen\\n45\\n (\\n45\\n)\\nClosed\\n43\\n (\\n43\\n)\\nAuthor\\nLabels\\nProjects\\nMilestones\\nAssignees\\nTypes\\nSort by \\nNewest\\n, descending\\nnothing seems to workStatus: Open.\\n#191 In microsoft/magentic-ui;\\n· itsallaboutthecheddar  opened 1\\n comment\\nDeploy magentic-ui on a VPS for remote access.Status: Open.\\n#184 In microsoft/magentic-ui;\\n· Spaiol  opened 2\\n comments\\nthe VNC was fail to connectStatus: Open.\\n#181 In microsoft/magentic-ui;\\n· williamnie2011  opened 5\\n comments\\nAdd missing metadata in PyPi distributionStatus: Open.\\n#170 In microsoft/magentic-ui;\\n· matheusmaldaner  opened Fix Windows issue with live view browserStatus: Open.\\n#165 In microsoft/magentic-ui;\\n· husseinmozannar  opened Make it easy to run magentic-ui in GitHub CodespacesStatus: Open.\\n#164 In microsoft/magentic-ui;\\n· husseinmozannar  opened The interactive screenshort and live view is blank, the localhost reject the connectionStatus: Open.\\n#162 In microsoft/magentic-ui;\\n· banrieen  opened 4\\n comments\\ndocker images have been built, ui has been started up, but there are not container.Status: Open.\\n#161 In microsoft/magentic-ui;\\n· tanye1984  opened 2\\n comments\\nLong-term memory to personalize planningneeds-triageStatus: Open.\\nFeature#160 In microsoft/magentic-ui;\\n· mmurad2  opened Expose MAGUI sub-agents as MCP toolsenhancementNew feature or request\\nStatus: Open.\\nFeature#159 In microsoft/magentic-ui;\\n· mmurad2  opened 1\\n comment\\nmet error: openai.APITimeoutError: Request timed out.awaiting-op-responseIssue or pr has been triaged or responded to and is now awaiting a reply from the original poster\\nbugSomething isn\\'t working\\nStatus: Open.\\n#155 In microsoft/magentic-ui;\\n· simonhou  opened 1\\n comment\\nCreate tutorials and documentation for the codebaseStatus: Open.\\n#154 In microsoft/magentic-ui;\\n· husseinmozannar  opened Support for Additional Model Providers via OpenAI-Compatible APIsStatus: Open.\\nFeature#149 In microsoft/magentic-ui;\\n· mmurad2  opened 2\\n comments\\nMagentic-UI VideoStatus: Open.\\n#148 In microsoft/magentic-ui;\\n· husseinmozannar  opened 1\\n comment\\nI have installed magentic ui,but met magentic command not foundStatus: Open.\\n#146 In microsoft/magentic-ui;\\n· Yenjeanhung  opened 20\\n comments\\nHow to use Magentic UI with azure openai keys.I did tried by changing keys in the config.yaml but it didn\\'t worked.Need help with steps to use azure keys.awaiting-op-responseIssue or pr has been triaged or responded to and is now awaiting a reply from the original poster\\nStatus: Open.\\n#142 In microsoft/magentic-ui;\\n· CHAHACH1  opened 1\\n comment\\ndocker 已经启动，但是执行magentic ui --port 8081显示未启动bugSomething isn\\'t working\\ndeploymentdeployment\\ndockerStatus: Open.\\n#137 In microsoft/magentic-ui;\\n· ShiroEmiya  opened 9\\n comments', <autogen_core._image.Image object at 0x7a72a135ba10>] type='MultiModalMessage'\n",
      "messages=[TextMessage(source='user', models_usage=None, metadata={}, content='find the open issues assigned to husseinmozannar on the microsoft/magentic-ui repo on github', type='TextMessage'), TextMessage(source='web_surfer', models_usage=RequestUsage(prompt_tokens=4858, completion_tokens=62), metadata={}, content=\"I'll search for the open issues assigned to husseinmozannar on the microsoft/magentic-ui GitHub repository.\", type='TextMessage'), MultiModalMessage(source='web_surfer', models_usage=RequestUsage(prompt_tokens=4858, completion_tokens=62), metadata={'internal': 'no', 'type': 'browser_screenshot'}, content=[\"I typed 'open issues assigned to husseinmozannar microsoft/magentic-ui site:github.com' into the browser search bar.\", <autogen_core._image.Image object at 0x7a72a12d8bc0>], type='MultiModalMessage'), TextMessage(source='web_surfer', models_usage=RequestUsage(prompt_tokens=13361, completion_tokens=110), metadata={}, content=\"I'll click on the link to the GitHub issue page to find more details about the issues assigned to husseinmozannar.\", type='TextMessage'), MultiModalMessage(source='web_surfer', models_usage=RequestUsage(prompt_tokens=13361, completion_tokens=110), metadata={'internal': 'no', 'type': 'browser_screenshot'}, content=[\"I clicked 'GitHub · Where software is built'.\", <autogen_core._image.Image object at 0x7a72a1692360>], type='MultiModalMessage'), TextMessage(source='web_surfer', models_usage=RequestUsage(prompt_tokens=24988, completion_tokens=286), metadata={}, content='Here are the open issues assigned to husseinmozannar on the microsoft/magentic-ui GitHub repository:\\n\\n1. **Issue #165**: Make it easy to run magentic-ui in GitHub Codespaces\\n2. **Issue #164**: The interactive screenshot and live view is blank, the localhost reject the connection\\n3. **Issue #154**: Support for Additional Model Providers via OpenAI-Compatible APIs\\n4. **Issue #148**: I have installed magentic ui, but met magentic command not found\\n\\nThese issues can be found on the GitHub repository of microsoft/magentic-ui. Let me know if you need more information!', type='TextMessage'), MultiModalMessage(source='web_surfer', models_usage=RequestUsage(prompt_tokens=24988, completion_tokens=286), metadata={'internal': 'yes'}, content=['\\n\\nThe actions the websurfer performed are the following.\\n\\n Action: web_search( {\"explanation\": \"I\\'ll search for the open issues assigned to husseinmozannar on the microsoft/magentic-ui GitHub repository.\", \"query\": \"open issues assigned to husseinmozannar microsoft/magentic-ui site:github.com\", \"require_approval\": false} )\\nObservation: I typed \\'open issues assigned to husseinmozannar microsoft/magentic-ui site:github.com\\' into the browser search bar.\\n\\n\\n\\n Action: click( {\"explanation\": \"I\\'ll click on the link to the GitHub issue page to find more details about the issues assigned to husseinmozannar.\", \"target_id\": 28, \"require_approval\": false} )\\nObservation: I clicked \\'GitHub · Where software is built\\'.\\n\\n\\n\\n Action: stop_action( {\"explanation\": \"I found the open issues assigned to husseinmozannar on the microsoft/magentic-ui GitHub repository.\", \"answer\": \"Here are the open issues assigned to husseinmozannar on the microsoft/magentic-ui GitHub repository:\\\\n\\\\n1. **Issue #165**: Make it easy to run magentic-ui in GitHub Codespaces\\\\n2. **Issue #164**: The interactive screenshot and live view is blank, the localhost reject the connection\\\\n3. **Issue #154**: Support for Additional Model Providers via OpenAI-Compatible APIs\\\\n4. **Issue #148**: I have installed magentic ui, but met magentic command not found\\\\n\\\\nThese issues can be found on the GitHub repository of microsoft/magentic-ui. Let me know if you need more information!\"} )\\nObservation: Here are the open issues assigned to husseinmozannar on the microsoft/magentic-ui GitHub repository:\\n\\n1. **Issue #165**: Make it easy to run magentic-ui in GitHub Codespaces\\n2. **Issue #164**: The interactive screenshot and live view is blank, the localhost reject the connection\\n3. **Issue #154**: Support for Additional Model Providers via OpenAI-Compatible APIs\\n4. **Issue #148**: I have installed magentic ui, but met magentic command not found\\n\\nThese issues can be found on the GitHub repository of microsoft/magentic-ui. Let me know if you need more information!\\n\\n\\n\\nWe are at the following webpage [Issues · microsoft/magentic-ui](https://github.com/microsoft/magentic-ui/issues).\\nThe viewport shows 66% of the webpage, and is positioned at the top of the page\\nThe text in the viewport is:\\n Skip to content\\nNavigation Menu\\n Product \\n GitHub Copilot \\n Write better code with AI \\n GitHub Models \\n New  Manage and compare prompts \\n GitHub Advanced Security \\n Find and fix vulnerabilities \\n Actions \\n Automate any workflow \\n Codespaces \\n Instant dev environments \\n Issues \\n Plan and track work \\n Code Review \\n Manage code changes \\n Discussions \\n Collaborate outside of code \\n Code Search \\n Find more, search less \\nExplore\\n Why GitHub \\n All features \\n Documentation \\n GitHub Skills \\n Blog \\n Solutions \\nBy company size\\n Enterprises \\n Small and medium teams \\n Startups \\n Nonprofits \\nBy use case\\n DevSecOps \\n DevOps \\n CI/CD \\n View all use cases \\nBy industry\\n Healthcare \\n Financial services \\n Manufacturing \\n Government \\n View all industries \\n View all solutions  Resources \\nTopics\\n AI \\n DevOps \\n Security \\n Software Development \\n View all \\nExplore\\n Learning Pathways \\n Events & Webinars \\n Ebooks & Whitepapers \\n Customer Stories \\n Partners \\n Executive Insights \\n Open Source \\n GitHub Sponsors \\n Fund open source developers \\n The ReadME Project \\n GitHub community articles \\nRepositories\\n Topics \\n Trending \\n Collections \\n Enterprise \\n Enterprise platform \\n AI-powered developer platform \\nAvailable add-ons\\n GitHub Advanced Security \\n Enterprise-grade security features \\n Copilot for business \\n Enterprise-grade AI features \\n Premium Support \\n Enterprise-grade 24/7 support \\nPricing\\nSearch or jump to...\\n Sign in \\n Sign up \\n microsoft /\\nmagentic-uiPublic\\nNotifications \\nFork \\n509\\n Star 5.2k\\nCode\\nIssues\\n45\\nPull requests\\n9\\nDiscussions\\nActions\\nProjects\\nSecurity\\nInsights\\nIssues\\nSearch Issues\\nis:issue \\nstate:open \\nis:issue state:open Labels\\nMilestones\\nNew issue\\nSearch results\\nOpen\\n45\\n (\\n45\\n)\\nClosed\\n43\\n (\\n43\\n)\\nAuthor\\nLabels\\nProjects\\nMilestones\\nAssignees\\nTypes\\nSort by \\nNewest\\n, descending\\nnothing seems to workStatus: Open.\\n#191 In microsoft/magentic-ui;\\n· itsallaboutthecheddar  opened 1\\n comment\\nDeploy magentic-ui on a VPS for remote access.Status: Open.\\n#184 In microsoft/magentic-ui;\\n· Spaiol  opened 2\\n comments\\nthe VNC was fail to connectStatus: Open.\\n#181 In microsoft/magentic-ui;\\n· williamnie2011  opened 5\\n comments\\nAdd missing metadata in PyPi distributionStatus: Open.\\n#170 In microsoft/magentic-ui;\\n· matheusmaldaner  opened Fix Windows issue with live view browserStatus: Open.\\n#165 In microsoft/magentic-ui;\\n· husseinmozannar  opened Make it easy to run magentic-ui in GitHub CodespacesStatus: Open.\\n#164 In microsoft/magentic-ui;\\n· husseinmozannar  opened The interactive screenshort and live view is blank, the localhost reject the connectionStatus: Open.\\n#162 In microsoft/magentic-ui;\\n· banrieen  opened 4\\n comments\\ndocker images have been built, ui has been started up, but there are not container.Status: Open.\\n#161 In microsoft/magentic-ui;\\n· tanye1984  opened 2\\n comments\\nLong-term memory to personalize planningneeds-triageStatus: Open.\\nFeature#160 In microsoft/magentic-ui;\\n· mmurad2  opened Expose MAGUI sub-agents as MCP toolsenhancementNew feature or request\\nStatus: Open.\\nFeature#159 In microsoft/magentic-ui;\\n· mmurad2  opened 1\\n comment\\nmet error: openai.APITimeoutError: Request timed out.awaiting-op-responseIssue or pr has been triaged or responded to and is now awaiting a reply from the original poster\\nbugSomething isn\\'t working\\nStatus: Open.\\n#155 In microsoft/magentic-ui;\\n· simonhou  opened 1\\n comment\\nCreate tutorials and documentation for the codebaseStatus: Open.\\n#154 In microsoft/magentic-ui;\\n· husseinmozannar  opened Support for Additional Model Providers via OpenAI-Compatible APIsStatus: Open.\\nFeature#149 In microsoft/magentic-ui;\\n· mmurad2  opened 2\\n comments\\nMagentic-UI VideoStatus: Open.\\n#148 In microsoft/magentic-ui;\\n· husseinmozannar  opened 1\\n comment\\nI have installed magentic ui,but met magentic command not foundStatus: Open.\\n#146 In microsoft/magentic-ui;\\n· Yenjeanhung  opened 20\\n comments\\nHow to use Magentic UI with azure openai keys.I did tried by changing keys in the config.yaml but it didn\\'t worked.Need help with steps to use azure keys.awaiting-op-responseIssue or pr has been triaged or responded to and is now awaiting a reply from the original poster\\nStatus: Open.\\n#142 In microsoft/magentic-ui;\\n· CHAHACH1  opened 1\\n comment\\ndocker 已经启动，但是执行magentic ui --port 8081显示未启动bugSomething isn\\'t working\\ndeploymentdeployment\\ndockerStatus: Open.\\n#137 In microsoft/magentic-ui;\\n· ShiroEmiya  opened 9\\n comments', <autogen_core._image.Image object at 0x7a72a135ba10>], type='MultiModalMessage')] stop_reason=None\n",
      "Final answer:\n",
      "Here are the open issues assigned to husseinmozannar on the microsoft/magentic-ui GitHub repository:\n",
      "\n",
      "1. **Issue #165**: Make it easy to run magentic-ui in GitHub Codespaces\n",
      "2. **Issue #164**: The interactive screenshot and live view is blank, the localhost reject the connection\n",
      "3. **Issue #154**: Support for Additional Model Providers via OpenAI-Compatible APIs\n",
      "4. **Issue #148**: I have installed magentic ui, but met magentic command not found\n",
      "\n",
      "These issues can be found on the GitHub repository of microsoft/magentic-ui. Let me know if you need more information!\n"
     ]
    }
   ],
   "source": [
    "\n",
    "from autogen_ext.models.openai import OpenAIChatCompletionClient\n",
    "from magentic_ui.agents import WebSurfer\n",
    "from magentic_ui.tools.playwright import (\n",
    "    LocalPlaywrightBrowser,\n",
    ")\n",
    "\n",
    "browser = LocalPlaywrightBrowser(headless=False)\n",
    "\n",
    "model_client = OpenAIChatCompletionClient(model=\"gpt-4o\")\n",
    "\n",
    "web_surfer = WebSurfer(\n",
    "    name=\"web_surfer\",\n",
    "    model_client=model_client, # Use any client from AutoGen!\n",
    "    animate_actions=True, # Set to True if you want to see the actions being animated!\n",
    "    max_actions_per_step=10, # Maximum number of actions to perform before returning\n",
    "    downloads_folder=\"debug\", # Where to save downloads\n",
    "    debug_dir=\"debug\", # Where to save debug files and screenshots\n",
    "    to_save_screenshots=False, # set to True if you want to save screenshots of the actions\n",
    "    browser=browser, # Use any browser from Magentic-UI!\n",
    "    multiple_tools_per_call=False, # Set to True if you want to use multiple tools per call\n",
    "    json_model_output=False, # Set to True if your model does not support tool calling\n",
    ")\n",
    "await web_surfer.lazy_init()\n",
    "\n",
    "task = \"find the open issues assigned to husseinmozannar on the microsoft/magentic-ui repo on github\"\n",
    "try:\n",
    "    messages = []\n",
    "    async for message in web_surfer.run_stream(task=task):\n",
    "        messages.append(message)\n",
    "        print(message)\n",
    "    print(\"########################################################\")\n",
    "    print(\"Final answer:\")\n",
    "    print(messages[-1].messages[-2].content)\n",
    "finally:\n",
    "    await web_surfer.close()\n"
   ]
  },
  {
   "cell_type": "markdown",
   "metadata": {},
   "source": [
    "We encourage you to experiment using the sample code file [sample_web_surfer.py](https://github.com/microsoft/magentic-ui/blob/main/samples/sample_web_surfer.py) and to use the Magentic-UI application which provides a web UI to interact with the WebSurfer agent and launch multiple parallel tasks and more!\n",
    "\n",
    "Just run:\n",
    "\n",
    "```bash\n",
    "python3 -m venv .venv\n",
    "source .venv/bin/activate\n",
    "pip install magentic-ui\n",
    "# export OPENAI_API_KEY=<YOUR API KEY>\n",
    "magentic ui --port 8081\n",
    "```\n",
    "See [https://github.com/microsoft/magentic-ui](https://github.com/microsoft/magentic-ui) for the full instructions.\n",
    "\n",
    "![../img/magenticui_running.png](../img/magenticui_running.png)"
   ]
  },
  {
   "cell_type": "markdown",
   "metadata": {},
   "source": [
    "# What's next?\n",
    "\n",
    "\n"
   ]
  },
  {
   "cell_type": "markdown",
   "metadata": {},
   "source": [
    "\n",
    "## Evaluation\n",
    "\n",
    "The first thing you might be curious about is how well does the WebSurfer agent perform?\n",
    "\n",
    "In Magentic-UI, we have built a small evaluation library [magentic-ui/eval](https://github.com/microsoft/magentic-ui/tree/main/src/magentic_ui/eval) that implements popular browser-use benchmarks and makes it easy to run evals. We will be building a bit on this library and will have a tutorial on how to use it.\n",
    "\n",
    " Magentic-UI has been tested against several benchmarks when running with o4-mini: [GAIA](https://huggingface.co/datasets/gaia-benchmark/GAIA) test set (42.52%), which assesses general AI assistants across reasoning, tool use, and web interaction tasks ; [AssistantBench](https://huggingface.co/AssistantBench) test set (27.60%), focusing on realistic, time-consuming web tasks; [WebVoyager](https://github.com/MinorJerry/WebVoyager) (82.2%), measuring end-to-end web navigation in real-world scenarios; and [WebGames](https://webgames.convergence.ai/) (45.5%), evaluating general-purpose web-browsing agents through interactive challenges.\n",
    "To reproduce these experimental results, please see the following [instructions](experiments/README.md).\n",
    "\n",
    "For reference, the current SOTA on WebVoyager is the [browser-use library](https://browser-use.com/posts/sota-technical-report) using GPT-4o achieving 89%. Note that the WebVoyager evaluation is not consistent across different systems as it relies on a mix of LLM-as-a-judge evaluation and human evaluation.\n",
    "\n",
    "\n",
    "## Limitations\n",
    "\n",
    "Using the Set-Of-Mark approach for building the Browser Use Agent has many limitations (note that both Magentic-UI and Browser Use library use SoM). For instance, any task that requires understanding coordinates on the screen our agent will fail on.\n",
    "Examples:\n",
    "\n",
    "- dragging an element from position A to position B\n",
    "- drawing on the screen\n",
    "- playing web games\n",
    "\n",
    "Moreover, it will not generalize to any Computer Use task where we might not have the DOM to obtain element coordinates. Therefore, we will need to have a model that can click on specific coordinates rather than using element IDs. The [UI-Tars](https://github.com/bytedance/UI-TARS) models have such an ability as well as the latest [compute-preview-api](https://platform.openai.com/docs/guides/tools-computer-use) from OpenAI. Another approach is to use a grounding or parsing model instead of the DOM such as [OmniParser](https://microsoft.github.io/OmniParser/) to obtain element IDs from any GUI interface combined with a tool-calling LLM.\n",
    "\n",
    "\n",
    "Another limitation is that these agents are not *real-time* and so tasks such as video-understanding or playing games become almost impossible natively as there multiple seconds delay between each agent action.\n",
    "\n",
    "## Safety\n",
    "\n",
    "Current LLMs are still very prone to adversarial attacks on the web, see these papers for how bad things can get it with current models even those tuned directly for CUA:\n",
    "\n",
    "- [Commercial LLM Agents Are Already Vulnerable to Simple Yet Dangerous Attacks\n",
    "](https://arxiv.org/html/2502.08586v1)\n",
    "- [RedTeamCUA:\n",
    "Realistic Adversarial Testing of Computer-Use Agents in\n",
    "Hybrid Web-OS Environments](https://osu-nlp-group.github.io/RedTeamCUA/)\n",
    "\n",
    "We recommend to have guardrails built into the agent to allow the human to approve actions if needed. We call such guardrails \"ActionGuard\" in Magentic-UI and they allow you to define heuristics in addition to LLM judgmenet for when actions might need human approval.\n",
    "\n",
    "\n"
   ]
  },
  {
   "cell_type": "markdown",
   "metadata": {},
   "source": [
    "If you've made it this far I really appreciate you taking the time to read and hope you've enjoyed following along!"
   ]
  }
 ],
 "metadata": {
  "kernelspec": {
   "display_name": "Python 3 (ipykernel)",
   "language": "python",
   "name": "python3"
  },
  "language_info": {
   "codemirror_mode": {
    "name": "ipython",
    "version": 3
   },
   "file_extension": ".py",
   "mimetype": "text/x-python",
   "name": "python",
   "nbconvert_exporter": "python",
   "pygments_lexer": "ipython3",
   "version": "3.12.6"
  }
 },
 "nbformat": 4,
 "nbformat_minor": 2
}
